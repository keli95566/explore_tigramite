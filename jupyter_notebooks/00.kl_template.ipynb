{
 "cells": [
  {
   "cell_type": "markdown",
   "metadata": {},
   "source": [
    "## Notebook Title\n",
    "By: Author\n",
    "Date: date"
   ]
  },
  {
   "cell_type": "markdown",
   "metadata": {},
   "source": [
    "### Process CSV Raw Data"
   ]
  },
  {
   "cell_type": "code",
   "execution_count": 3,
   "metadata": {},
   "outputs": [],
   "source": [
    "%load_ext autoreload\n",
    "%autoreload 2\n",
    "import os, sys\n",
    "\n",
    "project_root      = r\"/home/coco/code/dlr/explore_tigramite\"\n",
    "\n",
    "path_to_data_src  = os.path.join(project_root, \"src\",\"data\")\n",
    "path_to_model_src = os.path.join(project_root, \"src\",\"model\")\n",
    "\n",
    "path_to_processed_data = os.path.join(project_root,\"data\",\"processed\")\n",
    "path_to_raw_data       = os.path.join(project_root,\"data\",\"raw\")\n",
    "\n",
    "sys.path.insert(0, path_to_data_src)\n",
    "sys.path.insert(0, path_to_model_src)\n",
    "sys.path.insert(0, path_to_processed_data)\n",
    "sys.path.insert(0, path_to_raw_data)\n",
    "\n",
    "import pandas as pd\n",
    "import numpy as np\n",
    "\n"
   ]
  },
  {
   "cell_type": "markdown",
   "metadata": {},
   "source": [
    "### Causality Analysis with Tigramite"
   ]
  },
  {
   "cell_type": "code",
   "execution_count": 37,
   "metadata": {},
   "outputs": [],
   "source": [
    "import matplotlib\n",
    "from matplotlib import pyplot as plt\n",
    "%matplotlib inline    \n",
    "\n",
    "import tigramite\n",
    "from tigramite import data_processing as pp\n",
    "from tigramite import plotting as tp\n",
    "from tigramite.pcmci import PCMCI\n",
    "from tigramite.independence_tests import ParCorr, GPDC, CMIknn, CMIsymb"
   ]
  },
  {
   "cell_type": "markdown",
   "metadata": {},
   "source": [
    "### Analysis and Notes On User Study"
   ]
  }
 ],
 "metadata": {
  "kernelspec": {
   "display_name": "Python 3",
   "language": "python",
   "name": "python3"
  },
  "language_info": {
   "codemirror_mode": {
    "name": "ipython",
    "version": 3
   },
   "file_extension": ".py",
   "mimetype": "text/x-python",
   "name": "python",
   "nbconvert_exporter": "python",
   "pygments_lexer": "ipython3",
   "version": "3.8.3"
  }
 },
 "nbformat": 4,
 "nbformat_minor": 4
}
